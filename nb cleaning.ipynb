{
 "cells": [
  {
   "cell_type": "code",
   "execution_count": 103,
   "metadata": {},
   "outputs": [],
   "source": [
    "import pandas as pd \n",
    "import numpy as np"
   ]
  },
  {
   "cell_type": "code",
   "execution_count": null,
   "metadata": {},
   "outputs": [],
   "source": []
  },
  {
   "cell_type": "code",
   "execution_count": null,
   "metadata": {},
   "outputs": [],
   "source": []
  },
  {
   "cell_type": "code",
   "execution_count": null,
   "metadata": {},
   "outputs": [],
   "source": []
  },
  {
   "cell_type": "markdown",
   "metadata": {},
   "source": [
    "## Air quality September"
   ]
  },
  {
   "cell_type": "code",
   "execution_count": 9,
   "metadata": {},
   "outputs": [],
   "source": [
    "air_q_sept = pd.read_csv('barcelona-data-sets/2018_09_Setembre_qualitat_aire_BCN.csv') \n",
    "air_sept = air_q_sept[['nom_cabina', 'qualitat_aire','generat']]\n",
    "\n",
    "air_sept_sants = air_sept[air_sept['nom_cabina'] == 'Barcelona - Sants']\n",
    "air_sept_sants[\"qualitat_aire\"].value_counts()\n",
    "sept_sants = 574/(574+2)\n",
    "\n",
    "air_sept_ciut = air_sept[air_sept['nom_cabina'] == 'Barcelona - Ciutadella']\n",
    "air_sept_ciut[\"qualitat_aire\"].value_counts()\n",
    "sept_ciut = 643/(643+7)\n",
    "\n",
    "air_sept_eix = air_sept[air_sept['nom_cabina'] == 'Barcelona - Eixample']\n",
    "air_sept_eix[\"qualitat_aire\"].value_counts()\n",
    "sept_eix = 580/(580+118)\n",
    "\n",
    "air_sept_gracia = air_sept[air_sept['nom_cabina'] == 'Barcelona - Gràcia']\n",
    "air_sept_gracia[\"qualitat_aire\"].value_counts()\n",
    "sept_gracia = 623/(623+22)\n",
    "\n",
    "air_sept_fabra = air_sept[air_sept['nom_cabina'] == 'Barcelona - Observ Fabra']\n",
    "air_sept_fabra[\"qualitat_aire\"].value_counts()\n",
    "sept_fabra = 565/(565+64)\n",
    "\n",
    "air_sept_palau = air_sept[air_sept['nom_cabina'] == 'Barcelona - Palau Reial']\n",
    "air_sept_palau[\"qualitat_aire\"].value_counts()\n",
    "sept_palau = 692/(692+13)\n",
    "\n",
    "air_sept_poble9 = air_sept[air_sept['nom_cabina'] == 'Barcelona - Poblenou']\n",
    "air_sept_poble9[\"qualitat_aire\"].value_counts()\n",
    "sept_poble9 = 644/(644+58+13)\n",
    "\n",
    "air_sept_hebron = air_sept[air_sept['nom_cabina'] == 'Barcelona - Vall Hebron']\n",
    "air_sept_hebron[\"qualitat_aire\"].value_counts()\n",
    "sept_hebron = 659/(659+45)"
   ]
  },
  {
   "cell_type": "markdown",
   "metadata": {},
   "source": [
    "## Air quality October"
   ]
  },
  {
   "cell_type": "code",
   "execution_count": 10,
   "metadata": {},
   "outputs": [],
   "source": [
    "air_q_oct = pd.read_csv('barcelona-data-sets/2018_10_Octubre_qualitat_aire_BCN.csv') \n",
    "air_oct = air_q_oct[['nom_cabina', 'qualitat_aire','generat']]\n",
    "air_oct\n",
    "\n",
    "air_oct_sants = air_oct[air_oct['nom_cabina'] == 'Barcelona - Sants']\n",
    "air_oct_sants[\"qualitat_aire\"].value_counts()\n",
    "october_sants = 655/(655+7)\n",
    "\n",
    "air_oct_ciut = air_oct[air_oct['nom_cabina'] == 'Barcelona - Ciutadella']\n",
    "air_oct_ciut[\"qualitat_aire\"].value_counts()\n",
    "october_ciut = 706/(706+3)\n",
    "\n",
    "air_oct_eix = air_oct[air_oct['nom_cabina'] == 'Barcelona - Eixample']\n",
    "air_oct_eix[\"qualitat_aire\"].value_counts()\n",
    "october_eix = 645/(645+98)\n",
    "\n",
    "air_oct_gracia = air_oct[air_oct['nom_cabina'] == 'Barcelona - Gràcia']\n",
    "air_oct_gracia[\"qualitat_aire\"].value_counts()\n",
    "october_gracia = 611/(611+30)\n",
    "\n",
    "air_oct_fabra = air_oct[air_oct['nom_cabina'] == 'Barcelona - Observ Fabra']\n",
    "air_oct_fabra[\"qualitat_aire\"].value_counts()\n",
    "october_fabra = 1\n",
    "\n",
    "air_oct_palau = air_oct[air_oct['nom_cabina'] == 'Barcelona - Palau Reial']\n",
    "air_oct_palau[\"qualitat_aire\"].value_counts()\n",
    "october_palau = 710/(713)\n",
    "\n",
    "air_oct_poble9 = air_oct[air_oct['nom_cabina'] == 'Barcelona - Poblenou']\n",
    "air_oct_poble9[\"qualitat_aire\"].value_counts()\n",
    "october_poble9 = 604/(604+96+43)\n",
    "\n",
    "air_oct_hebron = air_oct[air_oct['nom_cabina'] == 'Barcelona - Vall Hebron']\n",
    "air_oct_hebron[\"qualitat_aire\"].value_counts()\n",
    "october_hebron = 709/(709+4)"
   ]
  },
  {
   "cell_type": "markdown",
   "metadata": {},
   "source": [
    "## Air quality November"
   ]
  },
  {
   "cell_type": "code",
   "execution_count": 11,
   "metadata": {},
   "outputs": [],
   "source": [
    "air_q = pd.read_csv('barcelona-data-sets/air_quality_Nov2017.csv') \n",
    "air_nov = air_q[['Station', 'Air Quality','Generated']]\n",
    "\n",
    "air_nov_sants = air_nov[air_nov['Station'] == 'Barcelona - Sants']\n",
    "air_nov_sants[\"Air Quality\"].value_counts()\n",
    "novembre_sants = 1\n",
    "\n",
    "air_nov_ciutadella = air_nov[air_nov['Station'] == 'Barcelona - Ciutadella']\n",
    "air_nov_ciutadella[\"Air Quality\"].value_counts()\n",
    "novembre_ciut = 1\n",
    "\n",
    "air_nov_eix = air_nov[air_nov['Station'] == 'Barcelona - Eixample']\n",
    "air_nov_eix[\"Air Quality\"].value_counts()\n",
    "novembre_eix = 635/(635+83)\n",
    "\n",
    "air_nov_gracia = air_nov[air_nov['Station'] == 'Barcelona - Gràcia']\n",
    "air_nov_gracia[\"Air Quality\"].value_counts()\n",
    "novembre_gracia = 630/(630+22)\n",
    "\n",
    "air_nov_fabra = air_nov[air_nov['Station'] == 'Barcelona - Observ Fabra']\n",
    "air_nov_fabra[\"Air Quality\"].value_counts()\n",
    "novembre_fabra = 1\n",
    "\n",
    "air_nov_palau = air_nov[air_nov['Station'] == 'Barcelona - Palau Reial']\n",
    "air_nov_palau[\"Air Quality\"].value_counts()\n",
    "novembre_palau = 710/(710+3)\n",
    "\n",
    "air_nov_poble9 = air_nov[air_nov['Station'] == 'Barcelona - Poblenou']\n",
    "air_nov_poble9[\"Air Quality\"].value_counts()\n",
    "novembre_poble9 = 680/(680+22)\n",
    "\n",
    "air_nov_hebron = air_nov[air_nov['Station'] == 'Barcelona - Vall Hebron']\n",
    "air_nov_hebron[\"Air Quality\"].value_counts()\n",
    "novembre_hebron = 1\n"
   ]
  },
  {
   "cell_type": "markdown",
   "metadata": {},
   "source": [
    "## Air quality December"
   ]
  },
  {
   "cell_type": "code",
   "execution_count": 12,
   "metadata": {},
   "outputs": [
    {
     "ename": "SyntaxError",
     "evalue": "invalid syntax (<ipython-input-12-91e085d060e2>, line 23)",
     "output_type": "error",
     "traceback": [
      "\u001b[0;36m  File \u001b[0;32m\"<ipython-input-12-91e085d060e2>\"\u001b[0;36m, line \u001b[0;32m23\u001b[0m\n\u001b[0;31m    desembre_fabra = 723/(723+5pob+3)\u001b[0m\n\u001b[0m                                 ^\u001b[0m\n\u001b[0;31mSyntaxError\u001b[0m\u001b[0;31m:\u001b[0m invalid syntax\n"
     ]
    }
   ],
   "source": [
    "air_q_des = pd.read_csv('barcelona-data-sets/2018_12_Desembre_qualitat_aire_BCN.csv') \n",
    "air_des = air_q_des[['nom_cabina', 'qualitat_aire','generat']]\n",
    "air_des\n",
    "\n",
    "air_des_sants = air_des[air_des['nom_cabina'] == 'Barcelona - Sants']\n",
    "air_des_sants[\"qualitat_aire\"].value_counts()\n",
    "desembre_sants = 1\n",
    "\n",
    "air_des_ciut = air_des[air_des['nom_cabina'] == 'Barcelona - Ciutadella']\n",
    "air_des_ciut[\"qualitat_aire\"].value_counts()\n",
    "desembre_ciut = 695/(695+1)\n",
    "\n",
    "air_des_eix = air_des[air_des['nom_cabina'] == 'Barcelona - Eixample']\n",
    "air_des_eix[\"qualitat_aire\"].value_counts()\n",
    "desembre_eix = 643/(643+88)\n",
    "\n",
    "air_des_gracia = air_des[air_des['nom_cabina'] == 'Barcelona - Gràcia']\n",
    "air_des_gracia[\"qualitat_aire\"].value_counts()\n",
    "desembre_gracia =  699/(699+32)\n",
    "\n",
    "air_des_fabra = air_des[air_des['nom_cabina'] == 'Barcelona - Observ Fabra']\n",
    "air_des_fabra[\"qualitat_aire\"].value_counts()\n",
    "desembre_fabra = 723/(723+5pob+3)\n",
    "\n",
    "air_des_palau = air_des[air_des['nom_cabina'] == 'Barcelona - Palau Reial']\n",
    "air_des_palau[\"qualitat_aire\"].value_counts()\n",
    "desembre_palau = 583/(583+2+1)\n",
    "\n",
    "air_des_poble9 = air_des[air_des['nom_cabina'] == 'Barcelona - Poblenou']\n",
    "air_des_poble9[\"qualitat_aire\"].value_counts()\n",
    "desembre_poble9 = 688/(688+43)\n",
    "\n",
    "air_des_hebron = air_des[air_des['nom_cabina'] == 'Barcelona - Vall Hebron']\n",
    "air_des_hebron[\"qualitat_aire\"].value_counts()\n",
    "desembre_hebron = 1"
   ]
  },
  {
   "cell_type": "code",
   "execution_count": null,
   "metadata": {},
   "outputs": [],
   "source": [
    "air_des_hebron[\"qualitat_aire\"].value_counts()\n"
   ]
  },
  {
   "cell_type": "markdown",
   "metadata": {},
   "source": [
    "## Monthly means / neighbourhood"
   ]
  },
  {
   "cell_type": "code",
   "execution_count": null,
   "metadata": {},
   "outputs": [],
   "source": [
    "sants = [sept_sants, october_sants, novembre_sants, desembre_sants]\n",
    "print('Sants: ', sants)\n",
    "\n",
    "ciutadella = [sept_ciut, october_ciut, novembre_ciut, desembre_ciut]\n",
    "print('Ciutadella: ', ciutadella)\n",
    "\n",
    "eixample = [sept_eix, october_eix, novembre_eix, desembre_eix]\n",
    "print('eixample: ', eixample)\n",
    "\n",
    "gracia = [sept_gracia, october_gracia, novembre_gracia, desembre_gracia]\n",
    "print('gracia: ', gracia)\n",
    "\n",
    "fabra = [sept_fabra, october_fabra, novembre_fabra, desembre_fabra]\n",
    "print('fabra: ', fabra)\n",
    "\n",
    "palau = [sept_palau, october_palau, novembre_palau, desembre_palau]\n",
    "print('palau: ', palau)\n",
    "\n",
    "poble9 = [sept_poble9, october_poble9, novembre_poble9, desembre_poble9]\n",
    "print('poble9: ', poble9)\n",
    "\n",
    "hebron = [sept_hebron, october_hebron, novembre_hebron, desembre_hebron]\n",
    "print('hebron: ', hebron)"
   ]
  },
  {
   "cell_type": "code",
   "execution_count": 84,
   "metadata": {},
   "outputs": [
    {
     "name": "stdout",
     "output_type": "stream",
     "text": [
      "ciutat vella 356.29999999999995\n",
      "eix  735.8000000000002\n",
      "sants  632.4\n",
      "corts  483.0\n",
      "sarria  1074.8\n",
      "gracia  519.5\n",
      "horta  907.7999999999998\n",
      "barris  668.8000000000001\n",
      "andreu  492.6\n",
      "marti  967.0\n"
     ]
    },
    {
     "data": {
      "text/plain": [
       "683.8"
      ]
     },
     "execution_count": 84,
     "metadata": {},
     "output_type": "execute_result"
    }
   ],
   "source": [
    "rfd = pd.read_csv('barcelona-data-sets/RFD_barri_clean.csv', sep=\";\") \n",
    "rfd_clean = rfd.drop('nb_ID', axis=1).drop('RFD', axis=1).drop('Neighbourhood', axis=1)\n",
    "\n",
    "rfd_ciutv = rfd_clean[rfd_clean['District'] == 1]\n",
    "ciutv_mean = rfd_ciutv['Mean'].sum()\n",
    "print('ciutat vella', ciutv_mean)\n",
    "\n",
    "rfd_eix = rfd_clean[rfd_clean['District'] == 2]\n",
    "eix_mean = rfd_eix['Mean'].sum()\n",
    "print('eix ', eix_mean)\n",
    "\n",
    "rfd_sants = rfd_clean[rfd_clean['District'] == 3]\n",
    "sants_mean = rfd_sants['Mean'].sum()\n",
    "print('sants ', sants_mean)\n",
    "\n",
    "rfd_corts = rfd_clean[rfd_clean['District'] == 4]\n",
    "corts_mean = rfd_corts['Mean'].sum()\n",
    "print('corts ', corts_mean)\n",
    "\n",
    "rfd_sarria = rfd_clean[rfd_clean['District'] == 5]\n",
    "sarria_mean = rfd_sarria['Mean'].sum()\n",
    "print('sarria ', sarria_mean)\n",
    "\n",
    "rfd_gracia = rfd_clean[rfd_clean['District'] == 6]\n",
    "gracia_mean = rfd_gracia['Mean'].sum()\n",
    "print('gracia ', gracia_mean)\n",
    "\n",
    "rfd_horta = rfd_clean[rfd_clean['District'] == 7]\n",
    "horta_mean = rfd_horta['Mean'].sum()\n",
    "print('horta ', horta_mean)\n",
    "\n",
    "rfd_barris = rfd_clean[rfd_clean['District'] == 8]\n",
    "barris_mean = rfd_barris['Mean'].sum()\n",
    "print('barris ', barris_mean)\n",
    "\n",
    "rfd_andreu = rfd_clean[rfd_clean['District'] == 9]\n",
    "andreu_mean = rfd_andreu['Mean'].sum()\n",
    "print('andreu ', andreu_mean)\n",
    "\n",
    "rfd_marti = rfd_clean[rfd_clean['District'] == 10]\n",
    "marti_mean = rfd_marti['Mean'].sum()\n",
    "print('marti ', marti_mean)\n",
    "\n",
    "bcn_rfd = [ciutv_mean, eix_mean, sants_mean, corts_mean, sarria_mean, gracia_mean, horta_mean, barris_mean, andreu_mean, marti_mean]\n",
    "bcn_mean = np.sum(bcn_rfd)/10\n",
    "bcn_mean\n"
   ]
  },
  {
   "cell_type": "code",
   "execution_count": 97,
   "metadata": {},
   "outputs": [],
   "source": [
    "RFDBCN_nb = ['Ciutat Vella', 'Eixample', 'Sants-Montjuic', 'Les Corts', 'Sarria-Sant Gervasi', 'Gracia', 'Horta-Guinardo', 'Nou Barris', 'Sant Andreu', 'Sant Marti']\n",
    "RFDBCN_mean = [356.3, 735.8, 632.4, 483.0, 1074.8, 519.5, 907.8, 668.8, 492.6, 967.0]"
   ]
  },
  {
   "cell_type": "code",
   "execution_count": 98,
   "metadata": {},
   "outputs": [
    {
     "data": {
      "text/plain": [
       "['Ciutat Vella',\n",
       " 'Eixample',\n",
       " 'Sants-Montjuïc',\n",
       " 'Les Corts',\n",
       " 'Sarrià-Sant Gervasi',\n",
       " 'Gracia',\n",
       " 'Horta-Guinardo',\n",
       " 'Nou Barris',\n",
       " 'Sant Andreu',\n",
       " 'Sant Marti']"
      ]
     },
     "execution_count": 98,
     "metadata": {},
     "output_type": "execute_result"
    }
   ],
   "source": [
    "RFDBCN_nb"
   ]
  },
  {
   "cell_type": "code",
   "execution_count": 110,
   "metadata": {},
   "outputs": [
    {
     "data": {
      "text/plain": [
       "0    1- Ciutat Vella\n",
       "1         2-Eixample\n",
       "2            3-Sants\n",
       "3       4- Les Corts\n",
       "4          5- Sarrià\n",
       "5          6- Gràcia\n",
       "6            7-Horta\n",
       "7       8-Nou Barris\n",
       "8      9-Sant Andreu\n",
       "9     10- Sant Martí\n",
       "dtype: object"
      ]
     },
     "execution_count": 110,
     "metadata": {},
     "output_type": "execute_result"
    }
   ],
   "source": [
    "RFDBCN"
   ]
  },
  {
   "cell_type": "code",
   "execution_count": 112,
   "metadata": {},
   "outputs": [
    {
     "data": {
      "text/html": [
       "<div>\n",
       "<style scoped>\n",
       "    .dataframe tbody tr th:only-of-type {\n",
       "        vertical-align: middle;\n",
       "    }\n",
       "\n",
       "    .dataframe tbody tr th {\n",
       "        vertical-align: top;\n",
       "    }\n",
       "\n",
       "    .dataframe thead th {\n",
       "        text-align: right;\n",
       "    }\n",
       "</style>\n",
       "<table border=\"1\" class=\"dataframe\">\n",
       "  <thead>\n",
       "    <tr style=\"text-align: right;\">\n",
       "      <th></th>\n",
       "      <th>District</th>\n",
       "      <th>Mean</th>\n",
       "    </tr>\n",
       "  </thead>\n",
       "  <tbody>\n",
       "    <tr>\n",
       "      <th>0</th>\n",
       "      <td>Ciutat Vella</td>\n",
       "      <td>356.3</td>\n",
       "    </tr>\n",
       "    <tr>\n",
       "      <th>1</th>\n",
       "      <td>Eixample</td>\n",
       "      <td>735.8</td>\n",
       "    </tr>\n",
       "    <tr>\n",
       "      <th>2</th>\n",
       "      <td>Sants-Montjuïc</td>\n",
       "      <td>632.4</td>\n",
       "    </tr>\n",
       "    <tr>\n",
       "      <th>3</th>\n",
       "      <td>Les Corts</td>\n",
       "      <td>483.0</td>\n",
       "    </tr>\n",
       "    <tr>\n",
       "      <th>4</th>\n",
       "      <td>Sarrià-Sant Gervasi</td>\n",
       "      <td>1074.8</td>\n",
       "    </tr>\n",
       "    <tr>\n",
       "      <th>5</th>\n",
       "      <td>Gracia</td>\n",
       "      <td>519.5</td>\n",
       "    </tr>\n",
       "    <tr>\n",
       "      <th>6</th>\n",
       "      <td>Horta-Guinardo</td>\n",
       "      <td>907.8</td>\n",
       "    </tr>\n",
       "    <tr>\n",
       "      <th>7</th>\n",
       "      <td>Nou Barris</td>\n",
       "      <td>668.8</td>\n",
       "    </tr>\n",
       "    <tr>\n",
       "      <th>8</th>\n",
       "      <td>Sant Andreu</td>\n",
       "      <td>492.6</td>\n",
       "    </tr>\n",
       "    <tr>\n",
       "      <th>9</th>\n",
       "      <td>Sant Marti</td>\n",
       "      <td>967.0</td>\n",
       "    </tr>\n",
       "  </tbody>\n",
       "</table>\n",
       "</div>"
      ],
      "text/plain": [
       "              District    Mean\n",
       "0         Ciutat Vella   356.3\n",
       "1             Eixample   735.8\n",
       "2       Sants-Montjuïc   632.4\n",
       "3            Les Corts   483.0\n",
       "4  Sarrià-Sant Gervasi  1074.8\n",
       "5               Gracia   519.5\n",
       "6       Horta-Guinardo   907.8\n",
       "7           Nou Barris   668.8\n",
       "8          Sant Andreu   492.6\n",
       "9           Sant Marti   967.0"
      ]
     },
     "execution_count": 112,
     "metadata": {},
     "output_type": "execute_result"
    }
   ],
   "source": [
    "RFD = pd.DataFrame({'District':RFDBCN_nb, 'Mean':RFDBCN_mean})\n",
    "RFD.to_csv('RFD_tot.csv', index=False)\n",
    "RFD"
   ]
  },
  {
   "cell_type": "code",
   "execution_count": null,
   "metadata": {},
   "outputs": [],
   "source": []
  },
  {
   "cell_type": "code",
   "execution_count": null,
   "metadata": {},
   "outputs": [],
   "source": []
  }
 ],
 "metadata": {
  "kernelspec": {
   "display_name": "Python 3",
   "language": "python",
   "name": "python3"
  },
  "language_info": {
   "codemirror_mode": {
    "name": "ipython",
    "version": 3
   },
   "file_extension": ".py",
   "mimetype": "text/x-python",
   "name": "python",
   "nbconvert_exporter": "python",
   "pygments_lexer": "ipython3",
   "version": "3.7.1"
  }
 },
 "nbformat": 4,
 "nbformat_minor": 2
}
