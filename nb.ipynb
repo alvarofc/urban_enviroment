{
 "cells": [
  {
   "cell_type": "code",
   "execution_count": 435,
   "metadata": {},
   "outputs": [],
   "source": [
    "import pandas as pd \n",
    "import numpy as np\n"
   ]
  },
  {
   "cell_type": "code",
   "execution_count": 417,
   "metadata": {},
   "outputs": [
    {
     "data": {
      "text/html": [
       "<div>\n",
       "<style scoped>\n",
       "    .dataframe tbody tr th:only-of-type {\n",
       "        vertical-align: middle;\n",
       "    }\n",
       "\n",
       "    .dataframe tbody tr th {\n",
       "        vertical-align: top;\n",
       "    }\n",
       "\n",
       "    .dataframe thead th {\n",
       "        text-align: right;\n",
       "    }\n",
       "</style>\n",
       "<table border=\"1\" class=\"dataframe\">\n",
       "  <thead>\n",
       "    <tr style=\"text-align: right;\">\n",
       "      <th></th>\n",
       "      <th>District</th>\n",
       "      <th>Mean</th>\n",
       "    </tr>\n",
       "  </thead>\n",
       "  <tbody>\n",
       "    <tr>\n",
       "      <th>0</th>\n",
       "      <td>Ciutat Vella</td>\n",
       "      <td>89.075000</td>\n",
       "    </tr>\n",
       "    <tr>\n",
       "      <th>1</th>\n",
       "      <td>Eixample</td>\n",
       "      <td>122.633333</td>\n",
       "    </tr>\n",
       "    <tr>\n",
       "      <th>2</th>\n",
       "      <td>Sants-Montjuic</td>\n",
       "      <td>79.050000</td>\n",
       "    </tr>\n",
       "    <tr>\n",
       "      <th>3</th>\n",
       "      <td>Les Corts</td>\n",
       "      <td>161.000000</td>\n",
       "    </tr>\n",
       "    <tr>\n",
       "      <th>4</th>\n",
       "      <td>Sarria-Sant Gervasi</td>\n",
       "      <td>179.133333</td>\n",
       "    </tr>\n",
       "    <tr>\n",
       "      <th>5</th>\n",
       "      <td>Gracia</td>\n",
       "      <td>103.900000</td>\n",
       "    </tr>\n",
       "    <tr>\n",
       "      <th>6</th>\n",
       "      <td>Horta-Guinardo</td>\n",
       "      <td>82.527273</td>\n",
       "    </tr>\n",
       "    <tr>\n",
       "      <th>7</th>\n",
       "      <td>Nou Barris</td>\n",
       "      <td>51.446154</td>\n",
       "    </tr>\n",
       "    <tr>\n",
       "      <th>8</th>\n",
       "      <td>Sant Andreu</td>\n",
       "      <td>70.371429</td>\n",
       "    </tr>\n",
       "    <tr>\n",
       "      <th>9</th>\n",
       "      <td>Sant Marti</td>\n",
       "      <td>96.700000</td>\n",
       "    </tr>\n",
       "  </tbody>\n",
       "</table>\n",
       "</div>"
      ],
      "text/plain": [
       "              District        Mean\n",
       "0         Ciutat Vella   89.075000\n",
       "1             Eixample  122.633333\n",
       "2       Sants-Montjuic   79.050000\n",
       "3            Les Corts  161.000000\n",
       "4  Sarria-Sant Gervasi  179.133333\n",
       "5               Gracia  103.900000\n",
       "6       Horta-Guinardo   82.527273\n",
       "7           Nou Barris   51.446154\n",
       "8          Sant Andreu   70.371429\n",
       "9           Sant Marti   96.700000"
      ]
     },
     "execution_count": 417,
     "metadata": {},
     "output_type": "execute_result"
    }
   ],
   "source": [
    "deaths = pd.read_csv('barcelona-data-sets/deaths.csv')\n",
    "rfd = pd.read_csv('barcelona-data-sets/RFD_tot.csv')\n",
    "rfd"
   ]
  },
  {
   "cell_type": "markdown",
   "metadata": {},
   "source": [
    "## Air quality"
   ]
  },
  {
   "cell_type": "code",
   "execution_count": 89,
   "metadata": {},
   "outputs": [],
   "source": [
    "air_q = pd.read_csv('barcelona-data-sets/air_quality_Nov2017.csv') \n",
    "air_nov = air_q[['Station', 'Air Quality','Generated']]"
   ]
  },
  {
   "cell_type": "code",
   "execution_count": null,
   "metadata": {},
   "outputs": [],
   "source": []
  },
  {
   "cell_type": "code",
   "execution_count": null,
   "metadata": {
    "code_folding": []
   },
   "outputs": [],
   "source": []
  },
  {
   "cell_type": "code",
   "execution_count": null,
   "metadata": {},
   "outputs": [],
   "source": []
  },
  {
   "cell_type": "code",
   "execution_count": 177,
   "metadata": {},
   "outputs": [
    {
     "data": {
      "text/plain": [
       "Barcelona - Gràcia         466\n",
       "Barcelona - Vall Hebron    466\n",
       "Barcelona - Ciutadella     466\n",
       "Barcelona - Eixample       466\n",
       "Barcelona - Sants          466\n",
       "Barcelona - Poblenou       466\n",
       "Barcelona - Palau Reial    466\n",
       "Name: nom_cabina, dtype: int64"
      ]
     },
     "execution_count": 177,
     "metadata": {},
     "output_type": "execute_result"
    }
   ],
   "source": [
    "air_des['nom_cabina'].value_counts()"
   ]
  },
  {
   "cell_type": "markdown",
   "metadata": {},
   "source": [
    "## June Air Quality"
   ]
  },
  {
   "cell_type": "code",
   "execution_count": 241,
   "metadata": {},
   "outputs": [],
   "source": [
    "air_q_jun = pd.read_csv('barcelona-data-sets/2018_06_Juny_qualitat_aire_BCN.csv') \n",
    "air_jun = air_q_jun[['nom_cabina', 'qualitat_aire','generat']]\n",
    "air_jun\n",
    "\n",
    "air_jun_sants = air_jun[air_jun['nom_cabina'] == 'Barcelona - Sants']\n",
    "air_jun_sants[\"qualitat_aire\"].value_counts()\n",
    "june_sants = 392/(392+6)\n",
    "\n",
    "air_jun_ciutadella = air_jun[air_jun['nom_cabina'] == 'Barcelona - Ciutadella']\n",
    "air_jun_ciutadella[\"qualitat_aire\"].value_counts()\n",
    "june_ciutadella = 430/(430+14)\n",
    "# Pobra air q here\n",
    "air_jun_eix = air_jun[air_jun['nom_cabina'] == 'Barcelona - Eixample']\n",
    "air_jun_sants[\"qualitat_aire\"].value_counts()\n",
    "june_eixample = 311/(311+126+26)\n",
    "\n",
    "air_jun_gracia = air_jun[air_jun['nom_cabina'] == 'Barcelona - Gràcia']\n",
    "air_jun_sants[\"qualitat_aire\"].value_counts()\n",
    "june_gracia = 392/(392+6)\n",
    "# Pobra here\n",
    "air_jun_poble9 = air_jun[air_jun['nom_cabina'] == 'Barcelona - Poblenou']\n",
    "air_jun_poble9[\"qualitat_aire\"].value_counts()\n",
    "june_poble9 = 361/(361+79+25)\n",
    "\n",
    "air_jun_palau = air_jun[air_jun['nom_cabina'] == 'Barcelona - Palau Reial']\n",
    "air_jun_palau[\"qualitat_aire\"].value_counts()\n",
    "june_palau = 437/(437+26)\n",
    "\n",
    "air_jun_hebron = air_jun[air_jun['nom_cabina'] == 'Barcelona - Vall Hebron']\n",
    "air_jun_hebron[\"qualitat_aire\"].value_counts() \n",
    "june_hebron = 452/(452+8)\n",
    "\n"
   ]
  },
  {
   "cell_type": "markdown",
   "metadata": {},
   "source": [
    "## July Air Quality"
   ]
  },
  {
   "cell_type": "code",
   "execution_count": 205,
   "metadata": {},
   "outputs": [],
   "source": [
    "air_q_jul = pd.read_csv('barcelona-data-sets/2018_07_Juliol_qualitat_aire_BCN.csv') \n",
    "air_jul = air_q_jul[['nom_cabina', 'qualitat_aire','generat']]"
   ]
  },
  {
   "cell_type": "code",
   "execution_count": 196,
   "metadata": {},
   "outputs": [
    {
     "data": {
      "text/plain": [
       "Barcelona - Gràcia         466\n",
       "Barcelona - Vall Hebron    466\n",
       "Barcelona - Ciutadella     466\n",
       "Barcelona - Eixample       466\n",
       "Barcelona - Sants          466\n",
       "Barcelona - Poblenou       466\n",
       "Barcelona - Palau Reial    466\n",
       "Name: nom_cabina, dtype: int64"
      ]
     },
     "execution_count": 196,
     "metadata": {},
     "output_type": "execute_result"
    }
   ],
   "source": [
    "air_jul['nom_cabina'].value_counts()"
   ]
  },
  {
   "cell_type": "code",
   "execution_count": 219,
   "metadata": {},
   "outputs": [
    {
     "data": {
      "text/plain": [
       "0.8127340823970037"
      ]
     },
     "execution_count": 219,
     "metadata": {},
     "output_type": "execute_result"
    }
   ],
   "source": [
    "air_jul_gracia = air_jul[air_jul['nom_cabina'] == 'Barcelona - Gràcia']\n",
    "air_jul_gracia[\"qualitat_aire\"].value_counts()\n",
    "july_gracia = 420/(420+57)\n",
    "\n",
    "air_jul_hebron = air_jul[air_jul['nom_cabina'] == 'Barcelona - Vall Hebron']\n",
    "air_jul_hebron[\"qualitat_aire\"].value_counts()\n",
    "#july_hebron = 441/(441+36)\n",
    "\n",
    "air_jul_ciutadella = air_jul[air_jul['nom_cabina'] == 'Barcelona - Ciutadella']\n",
    "air_jul_ciutadella[\"qualitat_aire\"].value_counts()\n",
    "july_ciutadella = 457/(457+7)\n",
    "\n",
    "air_jul_eix = air_jul[air_jul['nom_cabina'] == 'Barcelona - Eixample']\n",
    "air_jul_eix[\"qualitat_aire\"].value_counts()\n",
    "july_eix = 325/(325+153) \n",
    "\n",
    "air_jul_sants = air_jul[air_jul['nom_cabina'] == 'Barcelona - Sants']\n",
    "air_jul_sants[\"qualitat_aire\"].value_counts()\n",
    "july_sants = 440/(440+5)\n",
    "\n",
    "air_jul_poble9 = air_jul[air_jul['nom_cabina'] == 'Barcelona - Gràcia']\n",
    "air_jul_gracia[\"qualitat_aire\"].value_counts()\n",
    "july_poble9 = 420/(420+57)\n",
    "# Pobra here\n",
    "air_jul_palau = air_jul[air_jul['nom_cabina'] == 'Barcelona - Palau Reial']\n",
    "air_jul_palau[\"qualitat_aire\"].value_counts()\n",
    "july_palau = 217/(217+47+3)\n",
    "july_palau"
   ]
  },
  {
   "cell_type": "markdown",
   "metadata": {},
   "source": [
    "## August air quality"
   ]
  },
  {
   "cell_type": "code",
   "execution_count": 220,
   "metadata": {},
   "outputs": [],
   "source": [
    "air_q_aug = pd.read_csv('barcelona-data-sets/2018_08_Agost_qualitat_aire_BCN.csv') \n",
    "air_aug = air_q_aug[['nom_cabina', 'qualitat_aire','generat']]"
   ]
  },
  {
   "cell_type": "code",
   "execution_count": 222,
   "metadata": {},
   "outputs": [
    {
     "data": {
      "text/plain": [
       "Barcelona - Gràcia          725\n",
       "Barcelona - Vall Hebron     725\n",
       "Barcelona - Ciutadella      725\n",
       "Barcelona - Eixample        725\n",
       "Barcelona - Observ Fabra    725\n",
       "Barcelona - Sants           725\n",
       "Barcelona - Poblenou        725\n",
       "Barcelona - Palau Reial     725\n",
       "Name: nom_cabina, dtype: int64"
      ]
     },
     "execution_count": 222,
     "metadata": {},
     "output_type": "execute_result"
    }
   ],
   "source": [
    "air_aug['nom_cabina'].value_counts()"
   ]
  },
  {
   "cell_type": "code",
   "execution_count": 261,
   "metadata": {},
   "outputs": [],
   "source": [
    "air_aug_gracia = air_aug[air_aug['nom_cabina'] == 'Barcelona - Gràcia']\n",
    "air_aug_gracia[\"qualitat_aire\"].value_counts()\n",
    "aug_gracia = 582/(582+104)\n",
    "# Pobra here\n",
    "air_aug_hebron = air_aug[air_aug['nom_cabina'] == 'Barcelona - Vall Hebron']\n",
    "air_aug_hebron[\"qualitat_aire\"].value_counts()\n",
    "aug_hebron = 574/(574+62+1) \n",
    "# pobra here\n",
    "air_aug_ciutadella = air_aug[air_aug['nom_cabina'] == 'Barcelona - Ciutadella']\n",
    "air_aug_ciutadella[\"qualitat_aire\"].value_counts()\n",
    "aug_ciutadella = 563/(563+52+2)\n",
    "\n",
    "air_aug_eix = air_aug[air_aug['nom_cabina'] == 'Barcelona - Eixample']\n",
    "air_aug_eix[\"qualitat_aire\"].value_counts()\n",
    "aug_eixample = 590/(590+103)\n",
    "# Pobra here\n",
    "air_aug_fabra = air_aug[air_aug['nom_cabina'] == 'Barcelona - Observ Fabra']\n",
    "air_aug_fabra[\"qualitat_aire\"].value_counts()\n",
    "aug_fabra = 451/(451+152+5)\n",
    "\n",
    "air_aug_sants = air_aug[air_aug['nom_cabina'] == 'Barcelona - Sants']\n",
    "air_aug_sants[\"qualitat_aire\"].value_counts()\n",
    "aug_sants = 665/(665+9)\n",
    "# Pobra here\n",
    "air_aug_poble9 = air_aug[air_aug['nom_cabina'] == 'Barcelona - Poblenou']\n",
    "air_aug_poble9[\"qualitat_aire\"].value_counts()\n",
    "aug_poble9 = 597/(597+112+6)\n",
    "# Null majority\n",
    "air_aug_palau = air_aug[air_aug['nom_cabina'] == 'Barcelona - Palau Reial']\n",
    "air_aug_palau[\"qualitat_aire\"].value_counts()\n",
    "aug_palau = 306/(306+10)\n",
    "sept_sants = 574/(574+2)\n",
    "sept_ciut = 643/(643+7)\n",
    "sept_eix = 580/(580+118)\n",
    "sept_gracia = 623/(623+22)\n",
    "sept_fabra = 565/(565+64)\n",
    "sept_palau = 692/(692+13)\n",
    "sept_poble9 = 644/(644+58+13)\n",
    "sept_hebron = 659/(659+45)\n",
    "october_sants = 655/(655+7)\n",
    "october_ciut = 706/(706+3)\n",
    "october_eix = 645/(645+98)\n",
    "october_gracia = 611/(611+30)\n",
    "october_fabra = 1\n",
    "october_palau = 710/(713)\n",
    "october_poble9 = 604/(604+96+43)\n",
    "october_hebron = 709/(709+4)\n",
    "novembre_sants = 1\n",
    "novembre_ciut = 1\n",
    "novembre_eix = 635/(635+83)\n",
    "novembre_gracia = 630/(630+22)\n",
    "novembre_fabra = 1\n",
    "novembre_palau = 710/(710+3)\n",
    "novembre_poble9 = 680/(680+22)\n",
    "novembre_hebron = 1\n",
    "desembre_sants = 1\n",
    "desembre_ciut = 695/(695+1)\n",
    "desembre_eix = 643/(643+88)\n",
    "desembre_gracia =  699/(699+32)\n",
    "desembre_fabra = 723/(723+5+3)\n",
    "desembre_palau = 583/(583+2+1)\n",
    "desembre_poble9 = 688/(688+43)\n",
    "desembre_hebron = 1"
   ]
  },
  {
   "cell_type": "code",
   "execution_count": 262,
   "metadata": {},
   "outputs": [],
   "source": [
    "tot_gracia = (june_gracia+july_gracia+aug_gracia+sept_gracia+october_gracia+novembre_gracia+desembre_gracia)/7\n",
    "tot_hebron = (june_hebron+july_hebron+aug_hebron+sept_hebron+october_hebron+novembre_hebron+desembre_hebron)/7\n",
    "tot_ciuta = (june_ciutadella+july_ciutadella+aug_ciutadella+sept_ciut+october_ciut+novembre_ciut+desembre_ciut)/7\n",
    "tot_eix = (june_eixample+july_eix+aug_eixample+sept_eix+october_eix+novembre_eix+desembre_eix)/7\n",
    "tot_fabra = (aug_fabra+sept_fabra+october_fabra+novembre_fabra+desembre_fabra)/5\n",
    "tot_sants = (june_sants+july_sants+aug_sants+sept_sants+october_sants+novembre_sants+desembre_sants)/7\n",
    "tot_poble9 = (june_poble9+july_poble9+aug_poble9+sept_poble9+october_poble9+novembre_poble9+desembre_poble9)/7\n",
    "tot_palau = (june_palau+july_palau+aug_palau+sept_palau+october_palau+novembre_palau+desembre_palau)/7"
   ]
  },
  {
   "cell_type": "code",
   "execution_count": 263,
   "metadata": {},
   "outputs": [
    {
     "name": "stdout",
     "output_type": "stream",
     "text": [
      "0.9364851269910829 0.9709693913830109 0.9784892397382251 0.8094370509846593 0.9258167191419225 0.9923270445690406 0.8736099425404203 0.9561369553879009\n"
     ]
    }
   ],
   "source": [
    "print(tot_gracia ,\n",
    "tot_hebron, \n",
    "tot_ciuta,\n",
    "tot_eix,\n",
    "tot_fabra ,\n",
    "tot_sants ,\n",
    "tot_poble9, \n",
    "tot_palau)"
   ]
  },
  {
   "cell_type": "code",
   "execution_count": null,
   "metadata": {},
   "outputs": [],
   "source": []
  },
  {
   "cell_type": "markdown",
   "metadata": {},
   "source": [
    "## Deaths cleaning"
   ]
  },
  {
   "cell_type": "code",
   "execution_count": 388,
   "metadata": {},
   "outputs": [
    {
     "data": {
      "text/plain": [
       "0.802"
      ]
     },
     "execution_count": 388,
     "metadata": {},
     "output_type": "execute_result"
    }
   ],
   "source": [
    "ciutat_vella_res = deaths[(deaths['Year'] == 2017) & (deaths['District.Code']==1)]\n",
    "ciutat_vella_res = ciutat_vella_res['Number'].sum()\n",
    "ciutat_vella_res = round((ciutat_vella_res/101387)*100 ,3)\n",
    "ciutat_vella_res"
   ]
  },
  {
   "cell_type": "code",
   "execution_count": 389,
   "metadata": {},
   "outputs": [
    {
     "data": {
      "text/plain": [
       "1.028"
      ]
     },
     "execution_count": 389,
     "metadata": {},
     "output_type": "execute_result"
    }
   ],
   "source": [
    "eixample_res = deaths[(deaths['Year'] == 2017) & (deaths['District.Code']==2)]\n",
    "eixample_res = eixample_res['Number'].sum()\n",
    "eixample_res = round((eixample_res/266416)*100,3)\n",
    "eixample_res"
   ]
  },
  {
   "cell_type": "code",
   "execution_count": 390,
   "metadata": {},
   "outputs": [
    {
     "data": {
      "text/plain": [
       "0.968"
      ]
     },
     "execution_count": 390,
     "metadata": {},
     "output_type": "execute_result"
    }
   ],
   "source": [
    "sants_res = deaths[(deaths['Year'] == 2017) & (deaths['District.Code']==3)]\n",
    "sants_res = sants_res['Number'].sum()\n",
    "sants_res = round((sants_res/181910)*100,3)\n",
    "sants_res"
   ]
  },
  {
   "cell_type": "code",
   "execution_count": 391,
   "metadata": {},
   "outputs": [
    {
     "data": {
      "text/plain": [
       "0.933"
      ]
     },
     "execution_count": 391,
     "metadata": {},
     "output_type": "execute_result"
    }
   ],
   "source": [
    "corts_res = deaths[(deaths['Year'] == 2017) & (deaths['District.Code']==4)]\n",
    "corts_res = corts_res['Number'].sum()\n",
    "corts_res = round((corts_res/82033)*100,3)\n",
    "corts_res"
   ]
  },
  {
   "cell_type": "code",
   "execution_count": 392,
   "metadata": {},
   "outputs": [
    {
     "data": {
      "text/plain": [
       "0.912"
      ]
     },
     "execution_count": 392,
     "metadata": {},
     "output_type": "execute_result"
    }
   ],
   "source": [
    "sarria_res = deaths[(deaths['Year'] == 2017) & (deaths['District.Code']==5)]\n",
    "sarria_res = sarria_res['Number'].sum()\n",
    "sarria_res = round((sarria_res/149279)*100,3)\n",
    "sarria_res"
   ]
  },
  {
   "cell_type": "code",
   "execution_count": 382,
   "metadata": {},
   "outputs": [
    {
     "data": {
      "text/plain": [
       "0.969"
      ]
     },
     "execution_count": 382,
     "metadata": {},
     "output_type": "execute_result"
    }
   ],
   "source": [
    "gracia_res = deaths[(deaths['Year'] == 2017) & (deaths['District.Code']==6)]\n",
    "gracia_res = gracia_res['Number'].sum()\n",
    "gracia_res = round((gracia_res/121347)*100,3)\n",
    "gracia_res"
   ]
  },
  {
   "cell_type": "code",
   "execution_count": 393,
   "metadata": {},
   "outputs": [
    {
     "data": {
      "text/plain": [
       "1.07"
      ]
     },
     "execution_count": 393,
     "metadata": {},
     "output_type": "execute_result"
    }
   ],
   "source": [
    "horta_res = deaths[(deaths['Year'] == 2017) & (deaths['District.Code']==7)]\n",
    "horta_res = horta_res['Number'].sum()\n",
    "horta_res = round((horta_res/168751)*100,3)\n",
    "horta_res"
   ]
  },
  {
   "cell_type": "code",
   "execution_count": 394,
   "metadata": {},
   "outputs": [
    {
     "data": {
      "text/plain": [
       "1.05"
      ]
     },
     "execution_count": 394,
     "metadata": {},
     "output_type": "execute_result"
    }
   ],
   "source": [
    "barris_res = deaths[(deaths['Year'] == 2017) & (deaths['District.Code']==8)]\n",
    "barris_res = barris_res['Number'].sum()\n",
    "barris_res = round((barris_res/166579)*100,3)\n",
    "barris_res"
   ]
  },
  {
   "cell_type": "code",
   "execution_count": 395,
   "metadata": {},
   "outputs": [
    {
     "data": {
      "text/plain": [
       "0.898"
      ]
     },
     "execution_count": 395,
     "metadata": {},
     "output_type": "execute_result"
    }
   ],
   "source": [
    "andreu_res = deaths[(deaths['Year'] == 2017) & (deaths['District.Code']==9)]\n",
    "andreu_res = andreu_res['Number'].sum()\n",
    "andreu_res = round((andreu_res/147594)*100,3)\n",
    "andreu_res"
   ]
  },
  {
   "cell_type": "code",
   "execution_count": 396,
   "metadata": {},
   "outputs": [
    {
     "data": {
      "text/plain": [
       "0.879"
      ]
     },
     "execution_count": 396,
     "metadata": {},
     "output_type": "execute_result"
    }
   ],
   "source": [
    "marti_res = deaths[(deaths['Year'] == 2017) & (deaths['District.Code']==10)]\n",
    "marti_res = marti_res['Number'].sum()\n",
    "marti_res = round((marti_res/235513) *100,3)\n",
    "marti_res"
   ]
  },
  {
   "cell_type": "code",
   "execution_count": 418,
   "metadata": {},
   "outputs": [
    {
     "data": {
      "text/html": [
       "<div>\n",
       "<style scoped>\n",
       "    .dataframe tbody tr th:only-of-type {\n",
       "        vertical-align: middle;\n",
       "    }\n",
       "\n",
       "    .dataframe tbody tr th {\n",
       "        vertical-align: top;\n",
       "    }\n",
       "\n",
       "    .dataframe thead th {\n",
       "        text-align: right;\n",
       "    }\n",
       "</style>\n",
       "<table border=\"1\" class=\"dataframe\">\n",
       "  <thead>\n",
       "    <tr style=\"text-align: right;\">\n",
       "      <th></th>\n",
       "      <th>code</th>\n",
       "      <th>district</th>\n",
       "      <th>death_ser</th>\n",
       "      <th>pollution</th>\n",
       "    </tr>\n",
       "  </thead>\n",
       "  <tbody>\n",
       "    <tr>\n",
       "      <th>0</th>\n",
       "      <td>1</td>\n",
       "      <td>Ciutat Vella</td>\n",
       "      <td>0.802</td>\n",
       "      <td>0.978489</td>\n",
       "    </tr>\n",
       "    <tr>\n",
       "      <th>1</th>\n",
       "      <td>2</td>\n",
       "      <td>Eixample</td>\n",
       "      <td>1.028</td>\n",
       "      <td>0.809437</td>\n",
       "    </tr>\n",
       "    <tr>\n",
       "      <th>2</th>\n",
       "      <td>3</td>\n",
       "      <td>Sants-Montjuic</td>\n",
       "      <td>0.968</td>\n",
       "      <td>0.992327</td>\n",
       "    </tr>\n",
       "    <tr>\n",
       "      <th>3</th>\n",
       "      <td>4</td>\n",
       "      <td>Les Corts</td>\n",
       "      <td>0.933</td>\n",
       "      <td>0.956137</td>\n",
       "    </tr>\n",
       "    <tr>\n",
       "      <th>4</th>\n",
       "      <td>5</td>\n",
       "      <td>Sarria-Sant Gervasi</td>\n",
       "      <td>0.912</td>\n",
       "      <td>0.925817</td>\n",
       "    </tr>\n",
       "    <tr>\n",
       "      <th>5</th>\n",
       "      <td>6</td>\n",
       "      <td>Gracia</td>\n",
       "      <td>0.969</td>\n",
       "      <td>0.936485</td>\n",
       "    </tr>\n",
       "    <tr>\n",
       "      <th>6</th>\n",
       "      <td>7</td>\n",
       "      <td>Horta-Guinardo</td>\n",
       "      <td>1.070</td>\n",
       "      <td>0.970969</td>\n",
       "    </tr>\n",
       "    <tr>\n",
       "      <th>7</th>\n",
       "      <td>8</td>\n",
       "      <td>Nou Barris</td>\n",
       "      <td>1.050</td>\n",
       "      <td>NaN</td>\n",
       "    </tr>\n",
       "    <tr>\n",
       "      <th>8</th>\n",
       "      <td>9</td>\n",
       "      <td>Sant Andreu</td>\n",
       "      <td>0.898</td>\n",
       "      <td>NaN</td>\n",
       "    </tr>\n",
       "    <tr>\n",
       "      <th>9</th>\n",
       "      <td>10</td>\n",
       "      <td>Sant Marti</td>\n",
       "      <td>0.879</td>\n",
       "      <td>0.873610</td>\n",
       "    </tr>\n",
       "  </tbody>\n",
       "</table>\n",
       "</div>"
      ],
      "text/plain": [
       "   code             district  death_ser  pollution\n",
       "0     1         Ciutat Vella      0.802   0.978489\n",
       "1     2             Eixample      1.028   0.809437\n",
       "2     3       Sants-Montjuic      0.968   0.992327\n",
       "3     4            Les Corts      0.933   0.956137\n",
       "4     5  Sarria-Sant Gervasi      0.912   0.925817\n",
       "5     6               Gracia      0.969   0.936485\n",
       "6     7       Horta-Guinardo      1.070   0.970969\n",
       "7     8           Nou Barris      1.050        NaN\n",
       "8     9          Sant Andreu      0.898        NaN\n",
       "9    10           Sant Marti      0.879   0.873610"
      ]
     },
     "execution_count": 418,
     "metadata": {},
     "output_type": "execute_result"
    }
   ],
   "source": [
    "district_code = [1,2,3,4,5,6,7,8,9,10]\n",
    "district_name = ['Ciutat Vella','Eixample','Sants-Montjuic','Les Corts','Sarria-Sant Gervasi','Gracia','Horta-Guinardo','Nou Barris','Sant Andreu','Sant Marti']\n",
    "death_ser = [ciutat_vella_res,eixample_res,sants_res,corts_res,sarria_res,gracia_res,horta_res,barris_res,andreu_res,marti_res]\n",
    "pollution = [tot_ciuta,tot_eix,tot_sants,tot_palau,tot_fabra,tot_gracia,tot_hebron,None,None,tot_poble9]\n",
    "\n",
    "barcelona = pd.DataFrame({'code': district_code, 'district':district_name, 'death_ser': death_ser, 'pollution': pollution})\n",
    "barcelona "
   ]
  },
  {
   "cell_type": "code",
   "execution_count": 419,
   "metadata": {},
   "outputs": [],
   "source": [
    "barcelona['mean'] = rfd['Mean']"
   ]
  },
  {
   "cell_type": "code",
   "execution_count": 420,
   "metadata": {},
   "outputs": [
    {
     "data": {
      "text/html": [
       "<div>\n",
       "<style scoped>\n",
       "    .dataframe tbody tr th:only-of-type {\n",
       "        vertical-align: middle;\n",
       "    }\n",
       "\n",
       "    .dataframe tbody tr th {\n",
       "        vertical-align: top;\n",
       "    }\n",
       "\n",
       "    .dataframe thead th {\n",
       "        text-align: right;\n",
       "    }\n",
       "</style>\n",
       "<table border=\"1\" class=\"dataframe\">\n",
       "  <thead>\n",
       "    <tr style=\"text-align: right;\">\n",
       "      <th></th>\n",
       "      <th>code</th>\n",
       "      <th>district</th>\n",
       "      <th>death_ser</th>\n",
       "      <th>pollution</th>\n",
       "      <th>mean</th>\n",
       "    </tr>\n",
       "  </thead>\n",
       "  <tbody>\n",
       "    <tr>\n",
       "      <th>0</th>\n",
       "      <td>1</td>\n",
       "      <td>Ciutat Vella</td>\n",
       "      <td>0.802</td>\n",
       "      <td>0.978489</td>\n",
       "      <td>89.075000</td>\n",
       "    </tr>\n",
       "    <tr>\n",
       "      <th>1</th>\n",
       "      <td>2</td>\n",
       "      <td>Eixample</td>\n",
       "      <td>1.028</td>\n",
       "      <td>0.809437</td>\n",
       "      <td>122.633333</td>\n",
       "    </tr>\n",
       "    <tr>\n",
       "      <th>2</th>\n",
       "      <td>3</td>\n",
       "      <td>Sants-Montjuic</td>\n",
       "      <td>0.968</td>\n",
       "      <td>0.992327</td>\n",
       "      <td>79.050000</td>\n",
       "    </tr>\n",
       "    <tr>\n",
       "      <th>3</th>\n",
       "      <td>4</td>\n",
       "      <td>Les Corts</td>\n",
       "      <td>0.933</td>\n",
       "      <td>0.956137</td>\n",
       "      <td>161.000000</td>\n",
       "    </tr>\n",
       "    <tr>\n",
       "      <th>4</th>\n",
       "      <td>5</td>\n",
       "      <td>Sarria-Sant Gervasi</td>\n",
       "      <td>0.912</td>\n",
       "      <td>0.925817</td>\n",
       "      <td>179.133333</td>\n",
       "    </tr>\n",
       "    <tr>\n",
       "      <th>5</th>\n",
       "      <td>6</td>\n",
       "      <td>Gracia</td>\n",
       "      <td>0.969</td>\n",
       "      <td>0.936485</td>\n",
       "      <td>103.900000</td>\n",
       "    </tr>\n",
       "    <tr>\n",
       "      <th>6</th>\n",
       "      <td>7</td>\n",
       "      <td>Horta-Guinardo</td>\n",
       "      <td>1.070</td>\n",
       "      <td>0.970969</td>\n",
       "      <td>82.527273</td>\n",
       "    </tr>\n",
       "    <tr>\n",
       "      <th>7</th>\n",
       "      <td>8</td>\n",
       "      <td>Nou Barris</td>\n",
       "      <td>1.050</td>\n",
       "      <td>NaN</td>\n",
       "      <td>51.446154</td>\n",
       "    </tr>\n",
       "    <tr>\n",
       "      <th>8</th>\n",
       "      <td>9</td>\n",
       "      <td>Sant Andreu</td>\n",
       "      <td>0.898</td>\n",
       "      <td>NaN</td>\n",
       "      <td>70.371429</td>\n",
       "    </tr>\n",
       "    <tr>\n",
       "      <th>9</th>\n",
       "      <td>10</td>\n",
       "      <td>Sant Marti</td>\n",
       "      <td>0.879</td>\n",
       "      <td>0.873610</td>\n",
       "      <td>96.700000</td>\n",
       "    </tr>\n",
       "  </tbody>\n",
       "</table>\n",
       "</div>"
      ],
      "text/plain": [
       "   code             district  death_ser  pollution        mean\n",
       "0     1         Ciutat Vella      0.802   0.978489   89.075000\n",
       "1     2             Eixample      1.028   0.809437  122.633333\n",
       "2     3       Sants-Montjuic      0.968   0.992327   79.050000\n",
       "3     4            Les Corts      0.933   0.956137  161.000000\n",
       "4     5  Sarria-Sant Gervasi      0.912   0.925817  179.133333\n",
       "5     6               Gracia      0.969   0.936485  103.900000\n",
       "6     7       Horta-Guinardo      1.070   0.970969   82.527273\n",
       "7     8           Nou Barris      1.050        NaN   51.446154\n",
       "8     9          Sant Andreu      0.898        NaN   70.371429\n",
       "9    10           Sant Marti      0.879   0.873610   96.700000"
      ]
     },
     "execution_count": 420,
     "metadata": {},
     "output_type": "execute_result"
    }
   ],
   "source": [
    "barcelona"
   ]
  },
  {
   "cell_type": "code",
   "execution_count": 421,
   "metadata": {},
   "outputs": [
    {
     "data": {
      "text/html": [
       "<div>\n",
       "<style scoped>\n",
       "    .dataframe tbody tr th:only-of-type {\n",
       "        vertical-align: middle;\n",
       "    }\n",
       "\n",
       "    .dataframe tbody tr th {\n",
       "        vertical-align: top;\n",
       "    }\n",
       "\n",
       "    .dataframe thead th {\n",
       "        text-align: right;\n",
       "    }\n",
       "</style>\n",
       "<table border=\"1\" class=\"dataframe\">\n",
       "  <thead>\n",
       "    <tr style=\"text-align: right;\">\n",
       "      <th></th>\n",
       "      <th>code</th>\n",
       "      <th>district</th>\n",
       "      <th>death_ser</th>\n",
       "      <th>pollution</th>\n",
       "      <th>mean</th>\n",
       "    </tr>\n",
       "  </thead>\n",
       "  <tbody>\n",
       "    <tr>\n",
       "      <th>0</th>\n",
       "      <td>1</td>\n",
       "      <td>Ciutat Vella</td>\n",
       "      <td>0.802</td>\n",
       "      <td>0.978489</td>\n",
       "      <td>89.075000</td>\n",
       "    </tr>\n",
       "    <tr>\n",
       "      <th>1</th>\n",
       "      <td>2</td>\n",
       "      <td>Eixample</td>\n",
       "      <td>1.028</td>\n",
       "      <td>0.809437</td>\n",
       "      <td>122.633333</td>\n",
       "    </tr>\n",
       "    <tr>\n",
       "      <th>2</th>\n",
       "      <td>3</td>\n",
       "      <td>Sants-Montjuic</td>\n",
       "      <td>0.968</td>\n",
       "      <td>0.992327</td>\n",
       "      <td>79.050000</td>\n",
       "    </tr>\n",
       "    <tr>\n",
       "      <th>3</th>\n",
       "      <td>4</td>\n",
       "      <td>Les Corts</td>\n",
       "      <td>0.933</td>\n",
       "      <td>0.956137</td>\n",
       "      <td>161.000000</td>\n",
       "    </tr>\n",
       "    <tr>\n",
       "      <th>4</th>\n",
       "      <td>5</td>\n",
       "      <td>Sarria-Sant Gervasi</td>\n",
       "      <td>0.912</td>\n",
       "      <td>0.925817</td>\n",
       "      <td>179.133333</td>\n",
       "    </tr>\n",
       "    <tr>\n",
       "      <th>5</th>\n",
       "      <td>6</td>\n",
       "      <td>Gracia</td>\n",
       "      <td>0.969</td>\n",
       "      <td>0.936485</td>\n",
       "      <td>103.900000</td>\n",
       "    </tr>\n",
       "    <tr>\n",
       "      <th>6</th>\n",
       "      <td>7</td>\n",
       "      <td>Horta-Guinardo</td>\n",
       "      <td>1.070</td>\n",
       "      <td>0.970969</td>\n",
       "      <td>82.527273</td>\n",
       "    </tr>\n",
       "    <tr>\n",
       "      <th>9</th>\n",
       "      <td>10</td>\n",
       "      <td>Sant Marti</td>\n",
       "      <td>0.879</td>\n",
       "      <td>0.873610</td>\n",
       "      <td>96.700000</td>\n",
       "    </tr>\n",
       "  </tbody>\n",
       "</table>\n",
       "</div>"
      ],
      "text/plain": [
       "   code             district  death_ser  pollution        mean\n",
       "0     1         Ciutat Vella      0.802   0.978489   89.075000\n",
       "1     2             Eixample      1.028   0.809437  122.633333\n",
       "2     3       Sants-Montjuic      0.968   0.992327   79.050000\n",
       "3     4            Les Corts      0.933   0.956137  161.000000\n",
       "4     5  Sarria-Sant Gervasi      0.912   0.925817  179.133333\n",
       "5     6               Gracia      0.969   0.936485  103.900000\n",
       "6     7       Horta-Guinardo      1.070   0.970969   82.527273\n",
       "9    10           Sant Marti      0.879   0.873610   96.700000"
      ]
     },
     "execution_count": 421,
     "metadata": {},
     "output_type": "execute_result"
    }
   ],
   "source": [
    "death_all = barcelona.dropna() \n",
    "death_all"
   ]
  },
  {
   "cell_type": "code",
   "execution_count": 426,
   "metadata": {},
   "outputs": [
    {
     "data": {
      "text/plain": [
       "-0.18472389349114504"
      ]
     },
     "execution_count": 426,
     "metadata": {},
     "output_type": "execute_result"
    }
   ],
   "source": [
    "# Pollution vs Deaths\n",
    "np.corrcoef(death_all['death_ser'],death_all['pollution'])[0,1] "
   ]
  },
  {
   "cell_type": "code",
   "execution_count": 423,
   "metadata": {},
   "outputs": [
    {
     "data": {
      "text/plain": [
       "-0.10317405695251336"
      ]
     },
     "execution_count": 423,
     "metadata": {},
     "output_type": "execute_result"
    }
   ],
   "source": [
    "# Death vs RFD\n",
    "np.corrcoef(death_all['death_ser'],death_all['mean'])[0,1]"
   ]
  },
  {
   "cell_type": "code",
   "execution_count": 424,
   "metadata": {},
   "outputs": [
    {
     "data": {
      "text/plain": [
       "-0.24010467821438986"
      ]
     },
     "execution_count": 424,
     "metadata": {},
     "output_type": "execute_result"
    }
   ],
   "source": [
    "# RFD vs Pollution\n",
    "np.corrcoef(death_all['mean'],death_all['pollution'])[0,1]"
   ]
  },
  {
   "cell_type": "code",
   "execution_count": null,
   "metadata": {},
   "outputs": [],
   "source": []
  }
 ],
 "metadata": {
  "kernelspec": {
   "display_name": "Python 3",
   "language": "python",
   "name": "python3"
  },
  "language_info": {
   "codemirror_mode": {
    "name": "ipython",
    "version": 3
   },
   "file_extension": ".py",
   "mimetype": "text/x-python",
   "name": "python",
   "nbconvert_exporter": "python",
   "pygments_lexer": "ipython3",
   "version": "3.7.2"
  }
 },
 "nbformat": 4,
 "nbformat_minor": 2
}
